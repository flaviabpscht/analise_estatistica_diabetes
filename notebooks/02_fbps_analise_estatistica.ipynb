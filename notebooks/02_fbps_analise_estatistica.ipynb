{
 "cells": [
  {
   "cell_type": "markdown",
   "metadata": {},
   "source": [
    "# Análise exploratória dos dados (EDA)"
   ]
  },
  {
   "cell_type": "markdown",
   "metadata": {},
   "source": [
    "O diabetes é uma doença crônica grave na qual os indivíduos perdem a capacidade de regular efetivamente os níveis de glicose no sangue e pode levar a uma redução na qualidade de vida e na expectativa de vida.\n",
    "\n",
    "O Sistema de Vigilância de Fatores de Risco Comportamentais (BRFSS) é uma pesquisa telefônica relacionada à saúde que é coletada anualmente pelo CDC (Centro de Controle e Prevenção de Doenças dos Estados Unidos). A cada ano, a pesquisa coleta respostas de milhares de americanos sobre comportamentos de risco relacionados à saúde, condições crônicas de saúde e o uso de serviços preventivos. Para este projeto, foi utilizado conjunto de dados disponível no Kaggle para o ano de 2015. \n",
    "\n",
    "https://www.kaggle.com/datasets/alexteboul/diabetes-health-indicators-dataset"
   ]
  },
  {
   "cell_type": "markdown",
   "metadata": {},
   "source": [
    "Dicionário de variáveis:\n",
    "\n",
    "- `Diabetes_binary`: 0 = sem diabetes, 1 = com diabetes\n",
    "- `HighBP`: 0 = sem pressão alta, 1 = com pressão alta\n",
    "- `HighChol`: 0 = sem colesterol alto, 1 = com colesterol alto\n",
    "- `CholCheck`: 0 = não fez exame de colesterol na vida, 1 = fez exame de colesterol alguma vez\n",
    "- `BMI`: Índice de Massa Corporal (IMC)\n",
    "- `Smoker`: 0 = não fumante, 1 = fumante\n",
    "- `Stroke`: 0 = sem histórico de AVC, 1 = com histórico de AVC\n",
    "- `HeartDiseaseorAttack`: 0 = sem histórico de doença cardíaca ou ataque cardíaco, 1 = com histórico de doença cardíaca ou ataque cardíaco\n",
    "- `PhysActivity`: 0 = não pratica atividade física, 1 = pratica atividade física\n",
    "- `Fruits`: 0 = não consome frutas, 1 = consome frutas\n",
    "- `Veggies`: 0 = não consome vegetais, 1 = consome vegetais\n",
    "- `HvyAlcoholConsump`: 0 = não consome álcool em altas quantidades, 1 = consome álcool em altas quantidades\n",
    "- `AnyHealthcare`: 0 = não tem plano de saúde, 1 = tem plano de saúde\n",
    "- `NoDocbcCost`: 0 = não foi ao médico por questões financeiras, 1 = foi ao médico por questões financeiras (últimos 12 meses)\n",
    "- `GenHlth`: Saúde geral (1 a 5) - 1 = Excelente, 2 = Muito boa, 3 = Boa, 4 = Aceitável, 5 = Ruim\n",
    "- `MentHlth`: Nos últimos 30 dias, quantos dias a saúde mental não foi boa (0 a 30)\n",
    "- `PhysHlth`: Nos últimos 30 dias, quantos dias a saúde física não foi boa (0 a 30)\n",
    "- `DiffWalk`: 0 = não tem dificuldade para caminhar, 1 = tem dificuldade para caminhar\n",
    "- `Sex`: 0 = feminino, 1 = masculino\n",
    "- `Age`: Idade em faixas 1 = 18-24; 2 = 25-29; 3 = 30-34; 4 = 35-39; 5 = 40-44; 6 = 45-49; 7 = 50-54; 8 = 55-59; 9 = 60-64; 10 = 65-69; 11 = 70-74; 12 = 75-79; 13 = 80+\n",
    "- `Education`: Níveis de ensino 1 = nunca frequentou a escola; 2 = escola primária; 3 = escola secundária incompleta ; 4 = escola secundária; 5 = faculdade incompleta ou curso técnico; 6 = completou faculdade ou diplomas superiores\n",
    "- `Income`: Renda anual (dólares) em faixas 1 = < 10.000; 2 = 10.000-14.999; 3 = 15.000-19.999; 4 = 20.000-24.999; 5 = 25.000-34.999; 6 = 35.000-49.999; 7 = 50.000-74.999; 8 = 75.000+"
   ]
  },
  {
   "cell_type": "code",
   "execution_count": 1,
   "metadata": {
    "metadata": {}
   },
   "outputs": [],
   "source": [
    "from matplotlib.ticker import PercentFormatter\n",
    "from scipy.stats import chi2_contingency, kstest, norm\n",
    "\n",
    "#funções desenvolvidas para o projeto\n",
    "from src.estatistica import (\n",
    "    analise_levene, \n",
    "    analise_ttest_ind, \n",
    "    analise_mannwhitneyu,\n",
    "    histogramas_variaveis_categoricas, \n",
    "    histogramas_variaveis_categoricas_nao_binarias,\n",
    "    remove_outliers\n",
    ")\n",
    "from src.config import DADOS_TRATADOS \n",
    "\n",
    "import matplotlib.pyplot as plt\n",
    "import numpy as np\n",
    "import pandas as pd\n",
    "import seaborn as sns"
   ]
  },
  {
   "cell_type": "code",
   "execution_count": 2,
   "metadata": {},
   "outputs": [
    {
     "data": {
      "text/html": [
       "<div>\n",
       "<style scoped>\n",
       "    .dataframe tbody tr th:only-of-type {\n",
       "        vertical-align: middle;\n",
       "    }\n",
       "\n",
       "    .dataframe tbody tr th {\n",
       "        vertical-align: top;\n",
       "    }\n",
       "\n",
       "    .dataframe thead th {\n",
       "        text-align: right;\n",
       "    }\n",
       "</style>\n",
       "<table border=\"1\" class=\"dataframe\">\n",
       "  <thead>\n",
       "    <tr style=\"text-align: right;\">\n",
       "      <th></th>\n",
       "      <th>Diabetes</th>\n",
       "      <th>PressaoAlta</th>\n",
       "      <th>ColesterolAlto</th>\n",
       "      <th>ColesterolExame</th>\n",
       "      <th>IMC</th>\n",
       "      <th>Fumante</th>\n",
       "      <th>AVC</th>\n",
       "      <th>ProblemaCardiaco</th>\n",
       "      <th>AtividadeFisica</th>\n",
       "      <th>ComeFrutas</th>\n",
       "      <th>...</th>\n",
       "      <th>PlanoSaude</th>\n",
       "      <th>SemDinheiroConsultas</th>\n",
       "      <th>SaudeGeral</th>\n",
       "      <th>DiasProblemasMentais</th>\n",
       "      <th>DiasProblemasFisicos</th>\n",
       "      <th>DificuldadeAndar</th>\n",
       "      <th>Genero</th>\n",
       "      <th>FaixaIdade</th>\n",
       "      <th>Ensino</th>\n",
       "      <th>FaixaRenda</th>\n",
       "    </tr>\n",
       "  </thead>\n",
       "  <tbody>\n",
       "    <tr>\n",
       "      <th>0</th>\n",
       "      <td>Não</td>\n",
       "      <td>Sim</td>\n",
       "      <td>Não</td>\n",
       "      <td>Sim</td>\n",
       "      <td>26</td>\n",
       "      <td>Não</td>\n",
       "      <td>Não</td>\n",
       "      <td>Não</td>\n",
       "      <td>Sim</td>\n",
       "      <td>Não</td>\n",
       "      <td>...</td>\n",
       "      <td>Sim</td>\n",
       "      <td>Não</td>\n",
       "      <td>Boa</td>\n",
       "      <td>5</td>\n",
       "      <td>30</td>\n",
       "      <td>Não</td>\n",
       "      <td>Feminino</td>\n",
       "      <td>35-39</td>\n",
       "      <td>Faculdade +</td>\n",
       "      <td>75.000+</td>\n",
       "    </tr>\n",
       "    <tr>\n",
       "      <th>1</th>\n",
       "      <td>Não</td>\n",
       "      <td>Sim</td>\n",
       "      <td>Sim</td>\n",
       "      <td>Sim</td>\n",
       "      <td>26</td>\n",
       "      <td>Sim</td>\n",
       "      <td>Sim</td>\n",
       "      <td>Não</td>\n",
       "      <td>Não</td>\n",
       "      <td>Sim</td>\n",
       "      <td>...</td>\n",
       "      <td>Sim</td>\n",
       "      <td>Não</td>\n",
       "      <td>Boa</td>\n",
       "      <td>0</td>\n",
       "      <td>0</td>\n",
       "      <td>Não</td>\n",
       "      <td>Feminino</td>\n",
       "      <td>75-79</td>\n",
       "      <td>Faculdade +</td>\n",
       "      <td>75.000+</td>\n",
       "    </tr>\n",
       "    <tr>\n",
       "      <th>2</th>\n",
       "      <td>Não</td>\n",
       "      <td>Não</td>\n",
       "      <td>Não</td>\n",
       "      <td>Sim</td>\n",
       "      <td>26</td>\n",
       "      <td>Não</td>\n",
       "      <td>Não</td>\n",
       "      <td>Não</td>\n",
       "      <td>Sim</td>\n",
       "      <td>Sim</td>\n",
       "      <td>...</td>\n",
       "      <td>Sim</td>\n",
       "      <td>Não</td>\n",
       "      <td>Excelente</td>\n",
       "      <td>0</td>\n",
       "      <td>10</td>\n",
       "      <td>Não</td>\n",
       "      <td>Feminino</td>\n",
       "      <td>80+</td>\n",
       "      <td>Faculdade +</td>\n",
       "      <td>75.000+</td>\n",
       "    </tr>\n",
       "    <tr>\n",
       "      <th>3</th>\n",
       "      <td>Não</td>\n",
       "      <td>Sim</td>\n",
       "      <td>Sim</td>\n",
       "      <td>Sim</td>\n",
       "      <td>28</td>\n",
       "      <td>Sim</td>\n",
       "      <td>Não</td>\n",
       "      <td>Não</td>\n",
       "      <td>Sim</td>\n",
       "      <td>Sim</td>\n",
       "      <td>...</td>\n",
       "      <td>Sim</td>\n",
       "      <td>Não</td>\n",
       "      <td>Boa</td>\n",
       "      <td>0</td>\n",
       "      <td>3</td>\n",
       "      <td>Não</td>\n",
       "      <td>Feminino</td>\n",
       "      <td>70-74</td>\n",
       "      <td>Faculdade +</td>\n",
       "      <td>75.000+</td>\n",
       "    </tr>\n",
       "    <tr>\n",
       "      <th>4</th>\n",
       "      <td>Não</td>\n",
       "      <td>Não</td>\n",
       "      <td>Não</td>\n",
       "      <td>Sim</td>\n",
       "      <td>29</td>\n",
       "      <td>Sim</td>\n",
       "      <td>Não</td>\n",
       "      <td>Não</td>\n",
       "      <td>Sim</td>\n",
       "      <td>Sim</td>\n",
       "      <td>...</td>\n",
       "      <td>Sim</td>\n",
       "      <td>Não</td>\n",
       "      <td>Muito boa</td>\n",
       "      <td>0</td>\n",
       "      <td>0</td>\n",
       "      <td>Não</td>\n",
       "      <td>Masculino</td>\n",
       "      <td>55-59</td>\n",
       "      <td>Fac. inc ou Tec</td>\n",
       "      <td>75.000+</td>\n",
       "    </tr>\n",
       "  </tbody>\n",
       "</table>\n",
       "<p>5 rows × 22 columns</p>\n",
       "</div>"
      ],
      "text/plain": [
       "  Diabetes PressaoAlta ColesterolAlto ColesterolExame  IMC Fumante  AVC  \\\n",
       "0      Não         Sim            Não             Sim   26     Não  Não   \n",
       "1      Não         Sim            Sim             Sim   26     Sim  Sim   \n",
       "2      Não         Não            Não             Sim   26     Não  Não   \n",
       "3      Não         Sim            Sim             Sim   28     Sim  Não   \n",
       "4      Não         Não            Não             Sim   29     Sim  Não   \n",
       "\n",
       "  ProblemaCardiaco AtividadeFisica ComeFrutas  ... PlanoSaude  \\\n",
       "0              Não             Sim        Não  ...        Sim   \n",
       "1              Não             Não        Sim  ...        Sim   \n",
       "2              Não             Sim        Sim  ...        Sim   \n",
       "3              Não             Sim        Sim  ...        Sim   \n",
       "4              Não             Sim        Sim  ...        Sim   \n",
       "\n",
       "  SemDinheiroConsultas SaudeGeral DiasProblemasMentais DiasProblemasFisicos  \\\n",
       "0                  Não        Boa                    5                   30   \n",
       "1                  Não        Boa                    0                    0   \n",
       "2                  Não  Excelente                    0                   10   \n",
       "3                  Não        Boa                    0                    3   \n",
       "4                  Não  Muito boa                    0                    0   \n",
       "\n",
       "   DificuldadeAndar     Genero FaixaIdade           Ensino FaixaRenda  \n",
       "0               Não   Feminino      35-39      Faculdade +    75.000+  \n",
       "1               Não   Feminino      75-79      Faculdade +    75.000+  \n",
       "2               Não   Feminino        80+      Faculdade +    75.000+  \n",
       "3               Não   Feminino      70-74      Faculdade +    75.000+  \n",
       "4               Não  Masculino      55-59  Fac. inc ou Tec    75.000+  \n",
       "\n",
       "[5 rows x 22 columns]"
      ]
     },
     "execution_count": 2,
     "metadata": {},
     "output_type": "execute_result"
    }
   ],
   "source": [
    "sns.set_theme(style='dark', palette='dark', context='paper')\n",
    "\n",
    "df_diabetes_tratado = pd.read_parquet(DADOS_TRATADOS)\n",
    "\n",
    "df_diabetes_tratado.head()"
   ]
  },
  {
   "cell_type": "code",
   "execution_count": 3,
   "metadata": {},
   "outputs": [
    {
     "name": "stdout",
     "output_type": "stream",
     "text": [
      "<class 'pandas.core.frame.DataFrame'>\n",
      "RangeIndex: 70692 entries, 0 to 70691\n",
      "Data columns (total 22 columns):\n",
      " #   Column                  Non-Null Count  Dtype   \n",
      "---  ------                  --------------  -----   \n",
      " 0   Diabetes                70692 non-null  category\n",
      " 1   PressaoAlta             70692 non-null  category\n",
      " 2   ColesterolAlto          70692 non-null  category\n",
      " 3   ColesterolExame         70692 non-null  category\n",
      " 4   IMC                     70692 non-null  int8    \n",
      " 5   Fumante                 70692 non-null  category\n",
      " 6   AVC                     70692 non-null  category\n",
      " 7   ProblemaCardiaco        70692 non-null  category\n",
      " 8   AtividadeFisica         70692 non-null  category\n",
      " 9   ComeFrutas              70692 non-null  category\n",
      " 10  ComeLegumes             70692 non-null  category\n",
      " 11  ConsumoBebidaAlcoolica  70692 non-null  category\n",
      " 12  PlanoSaude              70692 non-null  category\n",
      " 13  SemDinheiroConsultas    70692 non-null  category\n",
      " 14  SaudeGeral              70692 non-null  category\n",
      " 15  DiasProblemasMentais    70692 non-null  int8    \n",
      " 16  DiasProblemasFisicos    70692 non-null  int8    \n",
      " 17  DificuldadeAndar        70692 non-null  category\n",
      " 18  Genero                  70692 non-null  category\n",
      " 19  FaixaIdade              70692 non-null  category\n",
      " 20  Ensino                  70692 non-null  category\n",
      " 21  FaixaRenda              70692 non-null  category\n",
      "dtypes: category(19), int8(3)\n",
      "memory usage: 1.5 MB\n"
     ]
    }
   ],
   "source": [
    "df_diabetes_tratado.info()"
   ]
  },
  {
   "cell_type": "markdown",
   "metadata": {},
   "source": [
    "Para facilitar o manejo e análise das informações estou agrupando as colunas de acordo com suas características"
   ]
  },
  {
   "cell_type": "code",
   "execution_count": 4,
   "metadata": {},
   "outputs": [],
   "source": [
    "colunas_numericas = df_diabetes_tratado.select_dtypes(include=\"number\").columns.tolist()\n",
    "\n",
    "coluna_alvo = \"Diabetes\"\n",
    "\n",
    "colunas_categoricas = df_diabetes_tratado.select_dtypes(include=\"category\").columns.tolist()\n",
    "colunas_categoricas.remove(coluna_alvo)\n",
    "\n",
    "colunas_binarias = df_diabetes_tratado.nunique()[df_diabetes_tratado.nunique() == 2].index.tolist()\n",
    "colunas_binarias.remove(coluna_alvo)\n",
    "\n",
    "colunas_nao_binarias = list(set(colunas_categoricas) - set(colunas_binarias))"
   ]
  },
  {
   "cell_type": "code",
   "execution_count": 5,
   "metadata": {},
   "outputs": [
    {
     "data": {
      "text/plain": [
       "['IMC', 'DiasProblemasMentais', 'DiasProblemasFisicos']"
      ]
     },
     "execution_count": 5,
     "metadata": {},
     "output_type": "execute_result"
    }
   ],
   "source": [
    "colunas_numericas"
   ]
  },
  {
   "cell_type": "code",
   "execution_count": 6,
   "metadata": {},
   "outputs": [
    {
     "data": {
      "text/plain": [
       "'Diabetes'"
      ]
     },
     "execution_count": 6,
     "metadata": {},
     "output_type": "execute_result"
    }
   ],
   "source": [
    "coluna_alvo"
   ]
  },
  {
   "cell_type": "code",
   "execution_count": 7,
   "metadata": {},
   "outputs": [
    {
     "data": {
      "text/plain": [
       "['PressaoAlta',\n",
       " 'ColesterolAlto',\n",
       " 'ColesterolExame',\n",
       " 'Fumante',\n",
       " 'AVC',\n",
       " 'ProblemaCardiaco',\n",
       " 'AtividadeFisica',\n",
       " 'ComeFrutas',\n",
       " 'ComeLegumes',\n",
       " 'ConsumoBebidaAlcoolica',\n",
       " 'PlanoSaude',\n",
       " 'SemDinheiroConsultas',\n",
       " 'SaudeGeral',\n",
       " 'DificuldadeAndar',\n",
       " 'Genero',\n",
       " 'FaixaIdade',\n",
       " 'Ensino',\n",
       " 'FaixaRenda']"
      ]
     },
     "execution_count": 7,
     "metadata": {},
     "output_type": "execute_result"
    }
   ],
   "source": [
    "colunas_categoricas"
   ]
  },
  {
   "cell_type": "code",
   "execution_count": 8,
   "metadata": {},
   "outputs": [
    {
     "data": {
      "text/plain": [
       "['PressaoAlta',\n",
       " 'ColesterolAlto',\n",
       " 'ColesterolExame',\n",
       " 'Fumante',\n",
       " 'AVC',\n",
       " 'ProblemaCardiaco',\n",
       " 'AtividadeFisica',\n",
       " 'ComeFrutas',\n",
       " 'ComeLegumes',\n",
       " 'ConsumoBebidaAlcoolica',\n",
       " 'PlanoSaude',\n",
       " 'SemDinheiroConsultas',\n",
       " 'DificuldadeAndar',\n",
       " 'Genero']"
      ]
     },
     "execution_count": 8,
     "metadata": {},
     "output_type": "execute_result"
    }
   ],
   "source": [
    "colunas_binarias"
   ]
  },
  {
   "cell_type": "code",
   "execution_count": 9,
   "metadata": {},
   "outputs": [
    {
     "data": {
      "text/plain": [
       "14"
      ]
     },
     "execution_count": 9,
     "metadata": {},
     "output_type": "execute_result"
    }
   ],
   "source": [
    "len(colunas_binarias)"
   ]
  },
  {
   "cell_type": "code",
   "execution_count": 10,
   "metadata": {},
   "outputs": [
    {
     "data": {
      "text/plain": [
       "['Ensino', 'FaixaIdade', 'FaixaRenda', 'SaudeGeral']"
      ]
     },
     "execution_count": 10,
     "metadata": {},
     "output_type": "execute_result"
    }
   ],
   "source": [
    "colunas_nao_binarias"
   ]
  },
  {
   "cell_type": "markdown",
   "metadata": {},
   "source": [
    "# Tratamento dos outliers"
   ]
  },
  {
   "cell_type": "code",
   "execution_count": 11,
   "metadata": {},
   "outputs": [
    {
     "name": "stdout",
     "output_type": "stream",
     "text": [
      "<class 'pandas.core.frame.DataFrame'>\n",
      "RangeIndex: 70692 entries, 0 to 70691\n",
      "Data columns (total 22 columns):\n",
      " #   Column                  Non-Null Count  Dtype   \n",
      "---  ------                  --------------  -----   \n",
      " 0   Diabetes                70692 non-null  category\n",
      " 1   PressaoAlta             70692 non-null  category\n",
      " 2   ColesterolAlto          70692 non-null  category\n",
      " 3   ColesterolExame         70692 non-null  category\n",
      " 4   IMC                     70692 non-null  int8    \n",
      " 5   Fumante                 70692 non-null  category\n",
      " 6   AVC                     70692 non-null  category\n",
      " 7   ProblemaCardiaco        70692 non-null  category\n",
      " 8   AtividadeFisica         70692 non-null  category\n",
      " 9   ComeFrutas              70692 non-null  category\n",
      " 10  ComeLegumes             70692 non-null  category\n",
      " 11  ConsumoBebidaAlcoolica  70692 non-null  category\n",
      " 12  PlanoSaude              70692 non-null  category\n",
      " 13  SemDinheiroConsultas    70692 non-null  category\n",
      " 14  SaudeGeral              70692 non-null  category\n",
      " 15  DiasProblemasMentais    70692 non-null  int8    \n",
      " 16  DiasProblemasFisicos    70692 non-null  int8    \n",
      " 17  DificuldadeAndar        70692 non-null  category\n",
      " 18  Genero                  70692 non-null  category\n",
      " 19  FaixaIdade              70692 non-null  category\n",
      " 20  Ensino                  70692 non-null  category\n",
      " 21  FaixaRenda              70692 non-null  category\n",
      "dtypes: category(19), int8(3)\n",
      "memory usage: 1.5 MB\n"
     ]
    }
   ],
   "source": [
    "df_diabetes_sem_outliers = df_diabetes_tratado.copy()\n",
    "df_diabetes_sem_outliers.info()"
   ]
  },
  {
   "cell_type": "code",
   "execution_count": 12,
   "metadata": {},
   "outputs": [
    {
     "data": {
      "text/html": [
       "<div>\n",
       "<style scoped>\n",
       "    .dataframe tbody tr th:only-of-type {\n",
       "        vertical-align: middle;\n",
       "    }\n",
       "\n",
       "    .dataframe tbody tr th {\n",
       "        vertical-align: top;\n",
       "    }\n",
       "\n",
       "    .dataframe thead th {\n",
       "        text-align: right;\n",
       "    }\n",
       "</style>\n",
       "<table border=\"1\" class=\"dataframe\">\n",
       "  <thead>\n",
       "    <tr style=\"text-align: right;\">\n",
       "      <th></th>\n",
       "      <th>IMC</th>\n",
       "      <th>DiasProblemasMentais</th>\n",
       "      <th>DiasProblemasFisicos</th>\n",
       "    </tr>\n",
       "  </thead>\n",
       "  <tbody>\n",
       "    <tr>\n",
       "      <th>count</th>\n",
       "      <td>68511.000000</td>\n",
       "      <td>58876.000000</td>\n",
       "      <td>60068.000000</td>\n",
       "    </tr>\n",
       "    <tr>\n",
       "      <th>mean</th>\n",
       "      <td>29.129673</td>\n",
       "      <td>0.526615</td>\n",
       "      <td>1.880619</td>\n",
       "    </tr>\n",
       "    <tr>\n",
       "      <th>std</th>\n",
       "      <td>5.695466</td>\n",
       "      <td>1.271375</td>\n",
       "      <td>3.727202</td>\n",
       "    </tr>\n",
       "    <tr>\n",
       "      <th>min</th>\n",
       "      <td>13.000000</td>\n",
       "      <td>0.000000</td>\n",
       "      <td>0.000000</td>\n",
       "    </tr>\n",
       "    <tr>\n",
       "      <th>25%</th>\n",
       "      <td>25.000000</td>\n",
       "      <td>0.000000</td>\n",
       "      <td>0.000000</td>\n",
       "    </tr>\n",
       "    <tr>\n",
       "      <th>50%</th>\n",
       "      <td>28.000000</td>\n",
       "      <td>0.000000</td>\n",
       "      <td>0.000000</td>\n",
       "    </tr>\n",
       "    <tr>\n",
       "      <th>75%</th>\n",
       "      <td>33.000000</td>\n",
       "      <td>0.000000</td>\n",
       "      <td>2.000000</td>\n",
       "    </tr>\n",
       "    <tr>\n",
       "      <th>max</th>\n",
       "      <td>45.000000</td>\n",
       "      <td>5.000000</td>\n",
       "      <td>15.000000</td>\n",
       "    </tr>\n",
       "  </tbody>\n",
       "</table>\n",
       "</div>"
      ],
      "text/plain": [
       "                IMC  DiasProblemasMentais  DiasProblemasFisicos\n",
       "count  68511.000000          58876.000000          60068.000000\n",
       "mean      29.129673              0.526615              1.880619\n",
       "std        5.695466              1.271375              3.727202\n",
       "min       13.000000              0.000000              0.000000\n",
       "25%       25.000000              0.000000              0.000000\n",
       "50%       28.000000              0.000000              0.000000\n",
       "75%       33.000000              0.000000              2.000000\n",
       "max       45.000000              5.000000             15.000000"
      ]
     },
     "execution_count": 12,
     "metadata": {},
     "output_type": "execute_result"
    }
   ],
   "source": [
    "#tirar outliers\n",
    "for coluna in colunas_numericas:\n",
    "    df_diabetes_sem_outliers[coluna] = remove_outliers(df_diabetes_sem_outliers[coluna])\n",
    "\n",
    "df_diabetes_sem_outliers.describe()"
   ]
  },
  {
   "cell_type": "markdown",
   "metadata": {},
   "source": [
    "## Variáveis numéricas"
   ]
  },
  {
   "cell_type": "markdown",
   "metadata": {},
   "source": [
    "Análise estatística das variáveis numéricas\n"
   ]
  },
  {
   "cell_type": "code",
   "execution_count": 13,
   "metadata": {},
   "outputs": [
    {
     "data": {
      "image/png": "[encoded data removed]",
      "text/plain": [
       "<Figure size 1000x400 with 3 Axes>"
      ]
     },
     "metadata": {},
     "output_type": "display_data"
    }
   ],
   "source": [
    "fig, axs = plt.subplots(1,3, figsize =(10,4))\n",
    "for ax, coluna in zip(axs, colunas_numericas):\n",
    "    sns.boxplot(data= df_diabetes_sem_outliers, x=coluna_alvo, y=coluna, ax=ax)\n",
    "    \n",
    "plt.tight_layout()\n",
    "plt.show()"
   ]
  },
  {
   "cell_type": "code",
   "execution_count": 14,
   "metadata": {},
   "outputs": [
    {
     "data": {
      "image/png": "[encoded data removed]",
      "text/plain": [
       "<Figure size 1000x400 with 3 Axes>"
      ]
     },
     "metadata": {},
     "output_type": "display_data"
    }
   ],
   "source": [
    "fig, axs = plt.subplots(1,3, figsize =(10,4))\n",
    "for ax, coluna in zip(axs, colunas_numericas):\n",
    "    sns.histplot(data= df_diabetes_sem_outliers, x=coluna, hue=coluna_alvo, kde=True,ax=ax)\n",
    "    \n",
    "plt.tight_layout()\n",
    "plt.show()"
   ]
  },
  {
   "cell_type": "markdown",
   "metadata": {},
   "source": [
    "Abaixo uma opção para avaliar se há diferença relevante no imc."
   ]
  },
  {
   "cell_type": "code",
   "execution_count": 15,
   "metadata": {},
   "outputs": [
    {
     "name": "stderr",
     "output_type": "stream",
     "text": [
      "C:\\Users\\USUARIO\\AppData\\Local\\Temp\\ipykernel_16092\\2736083915.py:1: FutureWarning: The default of observed=False is deprecated and will be changed to True in a future version of pandas. Pass observed=False to retain current behavior or observed=True to adopt the future default and silence this warning.\n",
      "  df_diabetes_sem_outliers.groupby(coluna_alvo).describe()\n"
     ]
    },
    {
     "data": {
      "text/html": [
       "<div>\n",
       "<style scoped>\n",
       "    .dataframe tbody tr th:only-of-type {\n",
       "        vertical-align: middle;\n",
       "    }\n",
       "\n",
       "    .dataframe tbody tr th {\n",
       "        vertical-align: top;\n",
       "    }\n",
       "\n",
       "    .dataframe thead tr th {\n",
       "        text-align: left;\n",
       "    }\n",
       "\n",
       "    .dataframe thead tr:last-of-type th {\n",
       "        text-align: right;\n",
       "    }\n",
       "</style>\n",
       "<table border=\"1\" class=\"dataframe\">\n",
       "  <thead>\n",
       "    <tr>\n",
       "      <th></th>\n",
       "      <th colspan=\"8\" halign=\"left\">IMC</th>\n",
       "      <th colspan=\"5\" halign=\"left\">DiasProblemasMentais</th>\n",
       "      <th colspan=\"8\" halign=\"left\">DiasProblemasFisicos</th>\n",
       "    </tr>\n",
       "    <tr>\n",
       "      <th></th>\n",
       "      <th>count</th>\n",
       "      <th>mean</th>\n",
       "      <th>std</th>\n",
       "      <th>min</th>\n",
       "      <th>25%</th>\n",
       "      <th>50%</th>\n",
       "      <th>75%</th>\n",
       "      <th>max</th>\n",
       "      <th>count</th>\n",
       "      <th>mean</th>\n",
       "      <th>...</th>\n",
       "      <th>75%</th>\n",
       "      <th>max</th>\n",
       "      <th>count</th>\n",
       "      <th>mean</th>\n",
       "      <th>std</th>\n",
       "      <th>min</th>\n",
       "      <th>25%</th>\n",
       "      <th>50%</th>\n",
       "      <th>75%</th>\n",
       "      <th>max</th>\n",
       "    </tr>\n",
       "    <tr>\n",
       "      <th>Diabetes</th>\n",
       "      <th></th>\n",
       "      <th></th>\n",
       "      <th></th>\n",
       "      <th></th>\n",
       "      <th></th>\n",
       "      <th></th>\n",
       "      <th></th>\n",
       "      <th></th>\n",
       "      <th></th>\n",
       "      <th></th>\n",
       "      <th></th>\n",
       "      <th></th>\n",
       "      <th></th>\n",
       "      <th></th>\n",
       "      <th></th>\n",
       "      <th></th>\n",
       "      <th></th>\n",
       "      <th></th>\n",
       "      <th></th>\n",
       "      <th></th>\n",
       "      <th></th>\n",
       "    </tr>\n",
       "  </thead>\n",
       "  <tbody>\n",
       "    <tr>\n",
       "      <th>Não</th>\n",
       "      <td>34859.0</td>\n",
       "      <td>27.394102</td>\n",
       "      <td>5.157978</td>\n",
       "      <td>13.0</td>\n",
       "      <td>24.0</td>\n",
       "      <td>27.0</td>\n",
       "      <td>30.0</td>\n",
       "      <td>45.0</td>\n",
       "      <td>30517.0</td>\n",
       "      <td>0.535243</td>\n",
       "      <td>...</td>\n",
       "      <td>0.0</td>\n",
       "      <td>5.0</td>\n",
       "      <td>32311.0</td>\n",
       "      <td>1.389867</td>\n",
       "      <td>3.162062</td>\n",
       "      <td>0.0</td>\n",
       "      <td>0.0</td>\n",
       "      <td>0.0</td>\n",
       "      <td>1.0</td>\n",
       "      <td>15.0</td>\n",
       "    </tr>\n",
       "    <tr>\n",
       "      <th>Sim</th>\n",
       "      <td>33652.0</td>\n",
       "      <td>30.927493</td>\n",
       "      <td>5.668292</td>\n",
       "      <td>13.0</td>\n",
       "      <td>27.0</td>\n",
       "      <td>30.0</td>\n",
       "      <td>35.0</td>\n",
       "      <td>45.0</td>\n",
       "      <td>28359.0</td>\n",
       "      <td>0.517331</td>\n",
       "      <td>...</td>\n",
       "      <td>0.0</td>\n",
       "      <td>5.0</td>\n",
       "      <td>27757.0</td>\n",
       "      <td>2.451886</td>\n",
       "      <td>4.221140</td>\n",
       "      <td>0.0</td>\n",
       "      <td>0.0</td>\n",
       "      <td>0.0</td>\n",
       "      <td>3.0</td>\n",
       "      <td>15.0</td>\n",
       "    </tr>\n",
       "  </tbody>\n",
       "</table>\n",
       "<p>2 rows × 24 columns</p>\n",
       "</div>"
      ],
      "text/plain": [
       "              IMC                                                     \\\n",
       "            count       mean       std   min   25%   50%   75%   max   \n",
       "Diabetes                                                               \n",
       "Não       34859.0  27.394102  5.157978  13.0  24.0  27.0  30.0  45.0   \n",
       "Sim       33652.0  30.927493  5.668292  13.0  27.0  30.0  35.0  45.0   \n",
       "\n",
       "         DiasProblemasMentais            ...           DiasProblemasFisicos  \\\n",
       "                        count      mean  ...  75%  max                count   \n",
       "Diabetes                                 ...                                  \n",
       "Não                   30517.0  0.535243  ...  0.0  5.0              32311.0   \n",
       "Sim                   28359.0  0.517331  ...  0.0  5.0              27757.0   \n",
       "\n",
       "                                                        \n",
       "              mean       std  min  25%  50%  75%   max  \n",
       "Diabetes                                                \n",
       "Não       1.389867  3.162062  0.0  0.0  0.0  1.0  15.0  \n",
       "Sim       2.451886  4.221140  0.0  0.0  0.0  3.0  15.0  \n",
       "\n",
       "[2 rows x 24 columns]"
      ]
     },
     "execution_count": 15,
     "metadata": {},
     "output_type": "execute_result"
    }
   ],
   "source": [
    "df_diabetes_sem_outliers.groupby(coluna_alvo).describe()"
   ]
  },
  {
   "cell_type": "code",
   "execution_count": 16,
   "metadata": {},
   "outputs": [
    {
     "data": {
      "text/html": [
       "<div>\n",
       "<style scoped>\n",
       "    .dataframe tbody tr th:only-of-type {\n",
       "        vertical-align: middle;\n",
       "    }\n",
       "\n",
       "    .dataframe tbody tr th {\n",
       "        vertical-align: top;\n",
       "    }\n",
       "\n",
       "    .dataframe thead th {\n",
       "        text-align: right;\n",
       "    }\n",
       "</style>\n",
       "<table border=\"1\" class=\"dataframe\">\n",
       "  <thead>\n",
       "    <tr style=\"text-align: right;\">\n",
       "      <th></th>\n",
       "      <th>Diabetes</th>\n",
       "      <th>Não</th>\n",
       "      <th>Sim</th>\n",
       "    </tr>\n",
       "  </thead>\n",
       "  <tbody>\n",
       "    <tr>\n",
       "      <th rowspan=\"8\" valign=\"top\">IMC</th>\n",
       "      <th>count</th>\n",
       "      <td>34859.000000</td>\n",
       "      <td>33652.000000</td>\n",
       "    </tr>\n",
       "    <tr>\n",
       "      <th>mean</th>\n",
       "      <td>27.394102</td>\n",
       "      <td>30.927493</td>\n",
       "    </tr>\n",
       "    <tr>\n",
       "      <th>std</th>\n",
       "      <td>5.157978</td>\n",
       "      <td>5.668292</td>\n",
       "    </tr>\n",
       "    <tr>\n",
       "      <th>min</th>\n",
       "      <td>13.000000</td>\n",
       "      <td>13.000000</td>\n",
       "    </tr>\n",
       "    <tr>\n",
       "      <th>25%</th>\n",
       "      <td>24.000000</td>\n",
       "      <td>27.000000</td>\n",
       "    </tr>\n",
       "    <tr>\n",
       "      <th>50%</th>\n",
       "      <td>27.000000</td>\n",
       "      <td>30.000000</td>\n",
       "    </tr>\n",
       "    <tr>\n",
       "      <th>75%</th>\n",
       "      <td>30.000000</td>\n",
       "      <td>35.000000</td>\n",
       "    </tr>\n",
       "    <tr>\n",
       "      <th>max</th>\n",
       "      <td>45.000000</td>\n",
       "      <td>45.000000</td>\n",
       "    </tr>\n",
       "    <tr>\n",
       "      <th rowspan=\"8\" valign=\"top\">DiasProblemasMentais</th>\n",
       "      <th>count</th>\n",
       "      <td>30517.000000</td>\n",
       "      <td>28359.000000</td>\n",
       "    </tr>\n",
       "    <tr>\n",
       "      <th>mean</th>\n",
       "      <td>0.535243</td>\n",
       "      <td>0.517331</td>\n",
       "    </tr>\n",
       "    <tr>\n",
       "      <th>std</th>\n",
       "      <td>1.269640</td>\n",
       "      <td>1.273198</td>\n",
       "    </tr>\n",
       "    <tr>\n",
       "      <th>min</th>\n",
       "      <td>0.000000</td>\n",
       "      <td>0.000000</td>\n",
       "    </tr>\n",
       "    <tr>\n",
       "      <th>25%</th>\n",
       "      <td>0.000000</td>\n",
       "      <td>0.000000</td>\n",
       "    </tr>\n",
       "    <tr>\n",
       "      <th>50%</th>\n",
       "      <td>0.000000</td>\n",
       "      <td>0.000000</td>\n",
       "    </tr>\n",
       "    <tr>\n",
       "      <th>75%</th>\n",
       "      <td>0.000000</td>\n",
       "      <td>0.000000</td>\n",
       "    </tr>\n",
       "    <tr>\n",
       "      <th>max</th>\n",
       "      <td>5.000000</td>\n",
       "      <td>5.000000</td>\n",
       "    </tr>\n",
       "    <tr>\n",
       "      <th rowspan=\"8\" valign=\"top\">DiasProblemasFisicos</th>\n",
       "      <th>count</th>\n",
       "      <td>32311.000000</td>\n",
       "      <td>27757.000000</td>\n",
       "    </tr>\n",
       "    <tr>\n",
       "      <th>mean</th>\n",
       "      <td>1.389867</td>\n",
       "      <td>2.451886</td>\n",
       "    </tr>\n",
       "    <tr>\n",
       "      <th>std</th>\n",
       "      <td>3.162062</td>\n",
       "      <td>4.221140</td>\n",
       "    </tr>\n",
       "    <tr>\n",
       "      <th>min</th>\n",
       "      <td>0.000000</td>\n",
       "      <td>0.000000</td>\n",
       "    </tr>\n",
       "    <tr>\n",
       "      <th>25%</th>\n",
       "      <td>0.000000</td>\n",
       "      <td>0.000000</td>\n",
       "    </tr>\n",
       "    <tr>\n",
       "      <th>50%</th>\n",
       "      <td>0.000000</td>\n",
       "      <td>0.000000</td>\n",
       "    </tr>\n",
       "    <tr>\n",
       "      <th>75%</th>\n",
       "      <td>1.000000</td>\n",
       "      <td>3.000000</td>\n",
       "    </tr>\n",
       "    <tr>\n",
       "      <th>max</th>\n",
       "      <td>15.000000</td>\n",
       "      <td>15.000000</td>\n",
       "    </tr>\n",
       "  </tbody>\n",
       "</table>\n",
       "</div>"
      ],
      "text/plain": [
       "Diabetes                             Não           Sim\n",
       "IMC                  count  34859.000000  33652.000000\n",
       "                     mean      27.394102     30.927493\n",
       "                     std        5.157978      5.668292\n",
       "                     min       13.000000     13.000000\n",
       "                     25%       24.000000     27.000000\n",
       "                     50%       27.000000     30.000000\n",
       "                     75%       30.000000     35.000000\n",
       "                     max       45.000000     45.000000\n",
       "DiasProblemasMentais count  30517.000000  28359.000000\n",
       "                     mean       0.535243      0.517331\n",
       "                     std        1.269640      1.273198\n",
       "                     min        0.000000      0.000000\n",
       "                     25%        0.000000      0.000000\n",
       "                     50%        0.000000      0.000000\n",
       "                     75%        0.000000      0.000000\n",
       "                     max        5.000000      5.000000\n",
       "DiasProblemasFisicos count  32311.000000  27757.000000\n",
       "                     mean       1.389867      2.451886\n",
       "                     std        3.162062      4.221140\n",
       "                     min        0.000000      0.000000\n",
       "                     25%        0.000000      0.000000\n",
       "                     50%        0.000000      0.000000\n",
       "                     75%        1.000000      3.000000\n",
       "                     max       15.000000     15.000000"
      ]
     },
     "execution_count": 16,
     "metadata": {},
     "output_type": "execute_result"
    }
   ],
   "source": [
    "df_diabetes_sem_outliers.groupby(coluna_alvo, observed=False).describe().T"
   ]
  },
  {
   "cell_type": "code",
   "execution_count": 17,
   "metadata": {},
   "outputs": [
    {
     "data": {
      "text/html": [
       "<div>\n",
       "<style scoped>\n",
       "    .dataframe tbody tr th:only-of-type {\n",
       "        vertical-align: middle;\n",
       "    }\n",
       "\n",
       "    .dataframe tbody tr th {\n",
       "        vertical-align: top;\n",
       "    }\n",
       "\n",
       "    .dataframe thead th {\n",
       "        text-align: right;\n",
       "    }\n",
       "</style>\n",
       "<table border=\"1\" class=\"dataframe\">\n",
       "  <thead>\n",
       "    <tr style=\"text-align: right;\">\n",
       "      <th></th>\n",
       "      <th>IMC</th>\n",
       "      <th>DiasProblemasMentais</th>\n",
       "      <th>DiasProblemasFisicos</th>\n",
       "    </tr>\n",
       "  </thead>\n",
       "  <tbody>\n",
       "    <tr>\n",
       "      <th>IMC</th>\n",
       "      <td>1.000000</td>\n",
       "      <td>0.028221</td>\n",
       "      <td>0.108398</td>\n",
       "    </tr>\n",
       "    <tr>\n",
       "      <th>DiasProblemasMentais</th>\n",
       "      <td>0.028221</td>\n",
       "      <td>1.000000</td>\n",
       "      <td>0.138599</td>\n",
       "    </tr>\n",
       "    <tr>\n",
       "      <th>DiasProblemasFisicos</th>\n",
       "      <td>0.108398</td>\n",
       "      <td>0.138599</td>\n",
       "      <td>1.000000</td>\n",
       "    </tr>\n",
       "  </tbody>\n",
       "</table>\n",
       "</div>"
      ],
      "text/plain": [
       "                           IMC  DiasProblemasMentais  DiasProblemasFisicos\n",
       "IMC                   1.000000              0.028221              0.108398\n",
       "DiasProblemasMentais  0.028221              1.000000              0.138599\n",
       "DiasProblemasFisicos  0.108398              0.138599              1.000000"
      ]
     },
     "execution_count": 17,
     "metadata": {},
     "output_type": "execute_result"
    }
   ],
   "source": [
    "df_diabetes_sem_outliers.corr(numeric_only=True)"
   ]
  },
  {
   "cell_type": "code",
   "execution_count": 18,
   "metadata": {},
   "outputs": [
    {
     "data": {
      "text/html": [
       "<div>\n",
       "<style scoped>\n",
       "    .dataframe tbody tr th:only-of-type {\n",
       "        vertical-align: middle;\n",
       "    }\n",
       "\n",
       "    .dataframe tbody tr th {\n",
       "        vertical-align: top;\n",
       "    }\n",
       "\n",
       "    .dataframe thead th {\n",
       "        text-align: right;\n",
       "    }\n",
       "</style>\n",
       "<table border=\"1\" class=\"dataframe\">\n",
       "  <thead>\n",
       "    <tr style=\"text-align: right;\">\n",
       "      <th></th>\n",
       "      <th>IMC</th>\n",
       "      <th>DiasProblemasMentais</th>\n",
       "      <th>DiasProblemasFisicos</th>\n",
       "    </tr>\n",
       "    <tr>\n",
       "      <th>Diabetes</th>\n",
       "      <th></th>\n",
       "      <th></th>\n",
       "      <th></th>\n",
       "    </tr>\n",
       "  </thead>\n",
       "  <tbody>\n",
       "    <tr>\n",
       "      <th>Não</th>\n",
       "      <td>0.714415</td>\n",
       "      <td>2.454599</td>\n",
       "      <td>2.874805</td>\n",
       "    </tr>\n",
       "    <tr>\n",
       "      <th>Sim</th>\n",
       "      <td>0.323244</td>\n",
       "      <td>2.507093</td>\n",
       "      <td>1.856026</td>\n",
       "    </tr>\n",
       "  </tbody>\n",
       "</table>\n",
       "</div>"
      ],
      "text/plain": [
       "               IMC  DiasProblemasMentais  DiasProblemasFisicos\n",
       "Diabetes                                                      \n",
       "Não       0.714415              2.454599              2.874805\n",
       "Sim       0.323244              2.507093              1.856026"
      ]
     },
     "execution_count": 18,
     "metadata": {},
     "output_type": "execute_result"
    }
   ],
   "source": [
    "df_diabetes_sem_outliers.groupby(coluna_alvo, observed=False).skew(numeric_only=True) "
   ]
  },
  {
   "cell_type": "code",
   "execution_count": 19,
   "metadata": {},
   "outputs": [
    {
     "data": {
      "text/html": [
       "<div>\n",
       "<style scoped>\n",
       "    .dataframe tbody tr th:only-of-type {\n",
       "        vertical-align: middle;\n",
       "    }\n",
       "\n",
       "    .dataframe tbody tr th {\n",
       "        vertical-align: top;\n",
       "    }\n",
       "\n",
       "    .dataframe thead th {\n",
       "        text-align: right;\n",
       "    }\n",
       "</style>\n",
       "<table border=\"1\" class=\"dataframe\">\n",
       "  <thead>\n",
       "    <tr style=\"text-align: right;\">\n",
       "      <th></th>\n",
       "      <th>IMC</th>\n",
       "      <th>DiasProblemasMentais</th>\n",
       "      <th>DiasProblemasFisicos</th>\n",
       "    </tr>\n",
       "    <tr>\n",
       "      <th>Diabetes</th>\n",
       "      <th></th>\n",
       "      <th></th>\n",
       "      <th></th>\n",
       "    </tr>\n",
       "  </thead>\n",
       "  <tbody>\n",
       "    <tr>\n",
       "      <th>Não</th>\n",
       "      <td>0.481335</td>\n",
       "      <td>5.003764</td>\n",
       "      <td>8.079214</td>\n",
       "    </tr>\n",
       "    <tr>\n",
       "      <th>Sim</th>\n",
       "      <td>-0.343434</td>\n",
       "      <td>5.185706</td>\n",
       "      <td>2.367289</td>\n",
       "    </tr>\n",
       "  </tbody>\n",
       "</table>\n",
       "</div>"
      ],
      "text/plain": [
       "               IMC  DiasProblemasMentais  DiasProblemasFisicos\n",
       "Diabetes                                                      \n",
       "Não       0.481335              5.003764              8.079214\n",
       "Sim      -0.343434              5.185706              2.367289"
      ]
     },
     "execution_count": 19,
     "metadata": {},
     "output_type": "execute_result"
    }
   ],
   "source": [
    " df_diabetes_sem_outliers.groupby(coluna_alvo, observed=False)[colunas_numericas].apply(pd.DataFrame.kurtosis)"
   ]
  },
  {
   "cell_type": "code",
   "execution_count": 20,
   "metadata": {},
   "outputs": [],
   "source": [
    "dados_imc_sim_sem_outliers = df_diabetes_sem_outliers.query(\"Diabetes == 'Sim'\")['IMC'].values #filtrar apenas os valores sim na coluna IMC\n",
    "dados_imc_nao_sem_outliers=  df_diabetes_sem_outliers.query(\"Diabetes == 'Não'\")['IMC'].values"
   ]
  },
  {
   "cell_type": "code",
   "execution_count": 21,
   "metadata": {},
   "outputs": [
    {
     "data": {
      "text/html": [
       "<div>\n",
       "<style scoped>\n",
       "    .dataframe tbody tr th:only-of-type {\n",
       "        vertical-align: middle;\n",
       "    }\n",
       "\n",
       "    .dataframe tbody tr th {\n",
       "        vertical-align: top;\n",
       "    }\n",
       "\n",
       "    .dataframe thead th {\n",
       "        text-align: right;\n",
       "    }\n",
       "</style>\n",
       "<table border=\"1\" class=\"dataframe\">\n",
       "  <thead>\n",
       "    <tr style=\"text-align: right;\">\n",
       "      <th></th>\n",
       "      <th>Sim</th>\n",
       "      <th>Não</th>\n",
       "    </tr>\n",
       "  </thead>\n",
       "  <tbody>\n",
       "    <tr>\n",
       "      <th>0</th>\n",
       "      <td>30.0</td>\n",
       "      <td>26.0</td>\n",
       "    </tr>\n",
       "    <tr>\n",
       "      <th>1</th>\n",
       "      <td>25.0</td>\n",
       "      <td>26.0</td>\n",
       "    </tr>\n",
       "    <tr>\n",
       "      <th>2</th>\n",
       "      <td>28.0</td>\n",
       "      <td>26.0</td>\n",
       "    </tr>\n",
       "    <tr>\n",
       "      <th>3</th>\n",
       "      <td>23.0</td>\n",
       "      <td>28.0</td>\n",
       "    </tr>\n",
       "    <tr>\n",
       "      <th>4</th>\n",
       "      <td>27.0</td>\n",
       "      <td>29.0</td>\n",
       "    </tr>\n",
       "    <tr>\n",
       "      <th>...</th>\n",
       "      <td>...</td>\n",
       "      <td>...</td>\n",
       "    </tr>\n",
       "    <tr>\n",
       "      <th>35341</th>\n",
       "      <td>37.0</td>\n",
       "      <td>23.0</td>\n",
       "    </tr>\n",
       "    <tr>\n",
       "      <th>35342</th>\n",
       "      <td>29.0</td>\n",
       "      <td>29.0</td>\n",
       "    </tr>\n",
       "    <tr>\n",
       "      <th>35343</th>\n",
       "      <td>25.0</td>\n",
       "      <td>24.0</td>\n",
       "    </tr>\n",
       "    <tr>\n",
       "      <th>35344</th>\n",
       "      <td>18.0</td>\n",
       "      <td>NaN</td>\n",
       "    </tr>\n",
       "    <tr>\n",
       "      <th>35345</th>\n",
       "      <td>25.0</td>\n",
       "      <td>20.0</td>\n",
       "    </tr>\n",
       "  </tbody>\n",
       "</table>\n",
       "<p>35346 rows × 2 columns</p>\n",
       "</div>"
      ],
      "text/plain": [
       "        Sim   Não\n",
       "0      30.0  26.0\n",
       "1      25.0  26.0\n",
       "2      28.0  26.0\n",
       "3      23.0  28.0\n",
       "4      27.0  29.0\n",
       "...     ...   ...\n",
       "35341  37.0  23.0\n",
       "35342  29.0  29.0\n",
       "35343  25.0  24.0\n",
       "35344  18.0   NaN\n",
       "35345  25.0  20.0\n",
       "\n",
       "[35346 rows x 2 columns]"
      ]
     },
     "execution_count": 21,
     "metadata": {},
     "output_type": "execute_result"
    }
   ],
   "source": [
    "dataframe_imc_sem_oultiers = pd.DataFrame({'Sim': dados_imc_sim_sem_outliers, \"Não\": dados_imc_nao_sem_outliers})\n",
    "\n",
    "dataframe_imc_sem_oultiers "
   ]
  },
  {
   "cell_type": "code",
   "execution_count": 22,
   "metadata": {},
   "outputs": [
    {
     "data": {
      "text/plain": [
       "nan"
      ]
     },
     "execution_count": 22,
     "metadata": {},
     "output_type": "execute_result"
    }
   ],
   "source": [
    "dados_imc_nao_sem_outliers.mean()"
   ]
  },
  {
   "cell_type": "code",
   "execution_count": 23,
   "metadata": {},
   "outputs": [
    {
     "name": "stdout",
     "output_type": "stream",
     "text": [
      "KstestResult(statistic=0.10815079726309146, pvalue=0.0, statistic_location=27.0, statistic_sign=1)\n",
      "KstestResult(statistic=0.07345716240963396, pvalue=2.3370072025339465e-158, statistic_location=30.0, statistic_sign=1)\n"
     ]
    }
   ],
   "source": [
    "\n",
    "print(\n",
    "    kstest(\n",
    "        dataframe_imc_sem_oultiers[\"Não\"], \n",
    "        norm.cdf, \n",
    "        args=(dataframe_imc_sem_oultiers[\"Não\"].mean(),\n",
    "              dataframe_imc_sem_oultiers[\"Não\"].std()), \n",
    "        nan_policy = \"omit\")\n",
    ")\n",
    "print(\n",
    "    kstest(\n",
    "        dataframe_imc_sem_oultiers[\"Sim\"],\n",
    "        norm.cdf, \n",
    "        args=(dataframe_imc_sem_oultiers[\"Sim\"].mean(), \n",
    "              dataframe_imc_sem_oultiers[\"Sim\"].std()), \n",
    "        nan_policy = \"omit\")\n",
    ")     \n",
    "      "
   ]
  },
  {
   "cell_type": "markdown",
   "metadata": {},
   "source": [
    "- atenção para os dados de IMC terem sido arredondados para inteiros\n",
    "- será que considerar que há diferença entre diabéticos e não diabéticos considerando IMC?"
   ]
  },
  {
   "cell_type": "code",
   "execution_count": 24,
   "metadata": {},
   "outputs": [
    {
     "name": "stdout",
     "output_type": "stream",
     "text": [
      "Teste de Levene\n",
      " estatistica_levene= 532.986\n",
      " Ao menos uma variância é diferente (valor p:0.000). Hipótese nula pode ser desconsiderada\n"
     ]
    }
   ],
   "source": [
    "\n",
    "analise_levene(dataframe_imc_sem_oultiers, centro='median') #passamos median porquer o teste de normalidade rejeitou a hipótese nula\n",
    "\n"
   ]
  },
  {
   "cell_type": "code",
   "execution_count": 25,
   "metadata": {},
   "outputs": [
    {
     "name": "stdout",
     "output_type": "stream",
     "text": [
      "Teste T amostras independentes\n",
      "estatistica_ttest= 85.248\n",
      "Rejeita a hipótese nula (valor p: 0.000)\n"
     ]
    }
   ],
   "source": [
    "analise_ttest_ind(dataframe_imc_sem_oultiers, variancias_iguais=False)"
   ]
  },
  {
   "cell_type": "code",
   "execution_count": 26,
   "metadata": {},
   "outputs": [
    {
     "name": "stdout",
     "output_type": "stream",
     "text": [
      "Teste Mannwhitneyu\n",
      "estatistica_mannwhitneyu =801702843.000\n",
      "Rejeita a hipótese nula (valor p: 0.000)\n"
     ]
    }
   ],
   "source": [
    "analise_mannwhitneyu(dataframe_imc_sem_oultiers)"
   ]
  },
  {
   "cell_type": "markdown",
   "metadata": {},
   "source": [
    "### Variáveis categóricas"
   ]
  },
  {
   "cell_type": "code",
   "execution_count": 27,
   "metadata": {},
   "outputs": [
    {
     "data": {
      "image/png": "[encoded data removed]",
      "text/plain": [
       "<Figure size 2000x1000 with 14 Axes>"
      ]
     },
     "metadata": {},
     "output_type": "display_data"
    }
   ],
   "source": [
    "\n",
    "fig, axs = plt.subplots(nrows=2, ncols=7, figsize=(20, 10), sharey=True)\n",
    "\n",
    "for i, coluna in enumerate(colunas_binarias):\n",
    "    h = sns.histplot(x=coluna, \n",
    "                     hue=coluna_alvo, \n",
    "                     data=df_diabetes_tratado, \n",
    "                     multiple='fill', \n",
    "                     ax=axs.flat[i], \n",
    "                     stat='percent',\n",
    "                     shrink=0.8)\n",
    "    h.tick_params(axis='x', labelrotation=45)\n",
    "    h.grid(False)\n",
    "\n",
    "    h.yaxis.set_major_formatter(PercentFormatter(1))\n",
    "    h.set_ylabel('')\n",
    "\n",
    "    for bar in h.containers:\n",
    "        h.bar_label(bar, label_type='center', labels=[f'{b.get_height():.1%}' for b in bar], color='white', weight='bold', fontsize=11)\n",
    "\n",
    "    legend = h.get_legend()\n",
    "    legend.remove()\n",
    "\n",
    "labels = [text.get_text() for text in legend.get_texts()]\n",
    "\n",
    "fig.legend(handles=legend.legend_handles, labels=labels, loc='upper center', ncols=2, title='Diabetes', bbox_to_anchor=(0.5, 0.965))\n",
    "fig.suptitle('Diabetes por variável categórica', fontsize=16)\n",
    "\n",
    "fig.align_labels()\n",
    "\n",
    "plt.subplots_adjust(wspace=0.4, hspace=0.3, top=0.9)\n",
    "\n",
    "plt.show()"
   ]
  },
  {
   "cell_type": "code",
   "execution_count": 28,
   "metadata": {},
   "outputs": [
    {
     "ename": "NameError",
     "evalue": "name 'plt' is not defined",
     "output_type": "error",
     "traceback": [
      "\u001b[1;31m---------------------------------------------------------------------------\u001b[0m",
      "\u001b[1;31mNameError\u001b[0m                                 Traceback (most recent call last)",
      "Cell \u001b[1;32mIn[28], line 1\u001b[0m\n\u001b[1;32m----> 1\u001b[0m histogramas_variaveis_categoricas(df_diabetes_tratado, \n\u001b[0;32m      2\u001b[0m                                       colunas_binarias,\n\u001b[0;32m      3\u001b[0m                                       coluna_alvo,\n\u001b[0;32m      4\u001b[0m                                       linhas\u001b[38;5;241m=\u001b[39m\u001b[38;5;241m2\u001b[39m,\n\u001b[0;32m      5\u001b[0m                                       colunas\u001b[38;5;241m=\u001b[39m\u001b[38;5;241m7\u001b[39m, \n\u001b[0;32m      6\u001b[0m                                       tamanho\u001b[38;5;241m=\u001b[39m(\u001b[38;5;241m20\u001b[39m, \u001b[38;5;241m10\u001b[39m), \n\u001b[0;32m      7\u001b[0m                                       titulo\u001b[38;5;241m=\u001b[39m\u001b[38;5;124m\"\u001b[39m\u001b[38;5;124mDiabetes por variável categórica\u001b[39m\u001b[38;5;124m\"\u001b[39m,\n\u001b[0;32m      8\u001b[0m                                       legenda \u001b[38;5;241m=\u001b[39m \u001b[38;5;124m\"\u001b[39m\u001b[38;5;124mDiabets\u001b[39m\u001b[38;5;124m\"\u001b[39m\n\u001b[0;32m      9\u001b[0m                                      )\n",
      "File \u001b[1;32mD:\\ciencias_dados\\python_pratica\\hashtag\\ciencias_dados\\portfolio\\git2\\projeto_diabetes_modelo\\notebooks\\src\\estatistica.py:105\u001b[0m, in \u001b[0;36mhistogramas_variaveis_categoricas\u001b[1;34m(dataframe, lista_colunas, coluna_alvo, linhas, colunas, tamanho, titulo, legenda)\u001b[0m\n\u001b[0;32m     95\u001b[0m \u001b[38;5;28;01mdef\u001b[39;00m \u001b[38;5;21mhistogramas_variaveis_categoricas\u001b[39m(dataframe, \n\u001b[0;32m     96\u001b[0m                                       lista_colunas,\n\u001b[0;32m     97\u001b[0m                                       coluna_alvo,\n\u001b[1;32m   (...)\u001b[0m\n\u001b[0;32m    102\u001b[0m                                       legenda \u001b[38;5;241m=\u001b[39m \u001b[38;5;124m\"\u001b[39m\u001b[38;5;124mVariável Alvo\u001b[39m\u001b[38;5;124m\"\u001b[39m\n\u001b[0;32m    103\u001b[0m                                      ):\n\u001b[1;32m--> 105\u001b[0m     fig, axs \u001b[38;5;241m=\u001b[39m plt\u001b[38;5;241m.\u001b[39msubplots(nrows\u001b[38;5;241m=\u001b[39mlinhas, ncols\u001b[38;5;241m=\u001b[39mcolunas, figsize\u001b[38;5;241m=\u001b[39mtamanho, sharey\u001b[38;5;241m=\u001b[39m\u001b[38;5;28;01mTrue\u001b[39;00m)\n\u001b[0;32m    107\u001b[0m     \u001b[38;5;28;01mfor\u001b[39;00m i, coluna \u001b[38;5;129;01min\u001b[39;00m \u001b[38;5;28menumerate\u001b[39m(lista_colunas):\n\u001b[0;32m    108\u001b[0m         h \u001b[38;5;241m=\u001b[39m sns\u001b[38;5;241m.\u001b[39mhistplot(x\u001b[38;5;241m=\u001b[39mcoluna, \n\u001b[0;32m    109\u001b[0m                          hue\u001b[38;5;241m=\u001b[39mcoluna_alvo, \n\u001b[0;32m    110\u001b[0m                          data\u001b[38;5;241m=\u001b[39mdataframe, \n\u001b[1;32m   (...)\u001b[0m\n\u001b[0;32m    113\u001b[0m                          stat\u001b[38;5;241m=\u001b[39m\u001b[38;5;124m'\u001b[39m\u001b[38;5;124mpercent\u001b[39m\u001b[38;5;124m'\u001b[39m,\n\u001b[0;32m    114\u001b[0m                          shrink\u001b[38;5;241m=\u001b[39m\u001b[38;5;241m0.8\u001b[39m)\n",
      "\u001b[1;31mNameError\u001b[0m: name 'plt' is not defined"
     ]
    }
   ],
   "source": [
    "histogramas_variaveis_categoricas(df_diabetes_tratado, \n",
    "                                      colunas_binarias,\n",
    "                                      coluna_alvo,\n",
    "                                      linhas=2,\n",
    "                                      colunas=7, \n",
    "                                      tamanho=(20, 10), \n",
    "                                      titulo=\"Diabetes por variável categórica\",\n",
    "                                      legenda = \"Diabets\"\n",
    "                                     )"
   ]
  },
  {
   "cell_type": "code",
   "execution_count": null,
   "metadata": {},
   "outputs": [],
   "source": [
    "histogramas_variaveis_categoricas_nao_binarias(df_diabetes_tratado, \n",
    "                                      colunas_nao_binarias,\n",
    "                                      coluna_alvo,\n",
    "                                      titulo=\"Diabetes por variável categórica\",\n",
    "                                      legenda = \"Diabets\"\n",
    "                                     )"
   ]
  },
  {
   "cell_type": "code",
   "execution_count": null,
   "metadata": {},
   "outputs": [],
   "source": [
    "colunas_analise = ['SaudeGeral', 'FaixaRenda']\n",
    "\n",
    "\n",
    "fig, axs = plt.subplots(nrows=2, ncols=1, figsize=(12, 16))\n",
    "\n",
    "for ax, coluna in zip(axs.flatten(), colunas_analise):\n",
    "    h = sns.histplot(x='Ensino', \n",
    "                     hue=coluna, \n",
    "                     data=df_diabetes_tratado, \n",
    "                     multiple='fill', \n",
    "                     ax=ax, \n",
    "                     stat='percent',\n",
    "                     shrink=0.8)\n",
    "    h.tick_params(axis='x', labelrotation=45)\n",
    "    h.grid(False)\n",
    "\n",
    "    h.yaxis.set_major_formatter(PercentFormatter(1))\n",
    "    h.set_ylabel('')\n",
    "\n",
    "    for bar in h.containers:\n",
    "        h.bar_label(bar, label_type='center', labels=[f'{b.get_height():.1%}' for b in bar], color='white', weight='bold', fontsize=11)\n",
    "\n",
    "    legend = h.get_legend()\n",
    "    legend.remove()\n",
    "\n",
    "    labels = [text.get_text() for text in legend.get_texts()]\n",
    "    numero_itens = len(df_diabetes_tratado[coluna].cat.categories)\n",
    "    ax.legend(\n",
    "        handles=legend.legend_handles,\n",
    "        labels = labels,\n",
    "        loc = 'upper center',\n",
    "        ncols= numero_itens if numero_itens <= 6 else min(4, numero_itens),\n",
    "        bbox_to_anchor=(0.5, 1.1)\n",
    "    )\n",
    "\n",
    "\n",
    "    ax.set_title(f'Distribuição de {coluna} por nível de ensino', fontsize = 14, pad=55) #pad espaçamento do título entre ele e o sistema d eeixo\n",
    "\n",
    "plt.subplots_adjust(wspace=0.1, hspace=0.4, top=0.9)\n",
    "\n",
    "plt.show()"
   ]
  },
  {
   "cell_type": "code",
   "execution_count": null,
   "metadata": {},
   "outputs": [],
   "source": [
    "tabelas_contigencia = {}\n",
    "\n",
    "for coluna in df_diabetes_tratado.select_dtypes(\"category\").columns:\n",
    "    if coluna != coluna_alvo:\n",
    "        tabelas_contigencia[coluna] = pd.crosstab(df_diabetes_tratado[coluna_alvo], df_diabetes_tratado[coluna])"
   ]
  },
  {
   "cell_type": "code",
   "execution_count": null,
   "metadata": {},
   "outputs": [],
   "source": [
    "tabelas_contigencia"
   ]
  },
  {
   "cell_type": "code",
   "execution_count": null,
   "metadata": {},
   "outputs": [],
   "source": [
    "tabelas_contigencia['PressaoAlta']"
   ]
  },
  {
   "cell_type": "code",
   "execution_count": null,
   "metadata": {},
   "outputs": [],
   "source": [
    "for coluna in df_diabetes_tratado.select_dtypes(\"category\").columns:\n",
    "    if coluna != coluna_alvo:\n",
    "        display(pd.crosstab(\n",
    "            df_diabetes_tratado[coluna_alvo],\n",
    "            df_diabetes_tratado[coluna], \n",
    "            margins = True, \n",
    "            normalize = \"index\").\n",
    "               style.format(\"{:.2%}\"))"
   ]
  },
  {
   "cell_type": "code",
   "execution_count": null,
   "metadata": {},
   "outputs": [],
   "source": [
    "for coluna, tabela in tabelas_contigencia.items():\n",
    "    chi2, valor_p, _, _ = chi2_contingency(tabela)\n",
    "    print(f'{coluna} - {chi2=} - {valor_p=}')\n",
    "   "
   ]
  },
  {
   "cell_type": "code",
   "execution_count": null,
   "metadata": {},
   "outputs": [],
   "source": [
    "#coeficiente de spearman - variáveis ordinais\n",
    "resultados_correlacao= df_diabetes_tratado.select_dtypes('category').apply(lambda coluna: coluna.cat.codes).corr(method=\"spearman\", numeric_only=False)"
   ]
  },
  {
   "cell_type": "code",
   "execution_count": null,
   "metadata": {},
   "outputs": [],
   "source": [
    "fig, ax = plt.subplots(figsize=(6,6))\n",
    "sns.heatmap(resultados_correlacao)\n",
    "plt.show()"
   ]
  },
  {
   "cell_type": "code",
   "execution_count": null,
   "metadata": {},
   "outputs": [],
   "source": [
    "matriz = np.triu(resultados_correlacao)\n",
    "\n",
    "fig, ax = plt.subplots(figsize=(10,10))\n",
    "sns.heatmap(resultados_correlacao, mask = matriz, annot = True, fmt = '.2f', ax=ax, cmap = 'coolwarm' )\n",
    "plt.title('Coeficiente de Pearman entre variáveis categóricas', fontsize=16)\n",
    "plt.show()"
   ]
  },
  {
   "cell_type": "code",
   "execution_count": null,
   "metadata": {},
   "outputs": [],
   "source": [
    "#por mais que não seja ordenada, estamos ordenando os 0 e os 1 cxomo ordenamento\n",
    "# a escala do SaudeGeral é inversa, quanto pior a saude mais relacionada com diabetes. Precismoas ficar atentos\n",
    "#o heatmap dessa forma é mais informativo "
   ]
  }
 ],
 "metadata": {
  "kernelspec": {
   "display_name": "Python 3 (ipykernel)",
   "language": "python",
   "name": "python3"
  },
  "language_info": {
   "codemirror_mode": {
    "name": "ipython",
    "version": 3
   },
   "file_extension": ".py",
   "mimetype": "text/x-python",
   "name": "python",
   "nbconvert_exporter": "python",
   "pygments_lexer": "ipython3",
   "version": "3.12.7"
  }
 },
 "nbformat": 4,
 "nbformat_minor": 4
}
